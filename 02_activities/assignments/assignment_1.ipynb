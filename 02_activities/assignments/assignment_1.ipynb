{
 "cells": [
  {
   "cell_type": "markdown",
   "metadata": {},
   "source": [
    "# Working with parquet files\n",
    "\n",
    "## Objective\n",
    "\n",
    "+ In this assignment, we will use the data downloaded with the module `data_manager` to create features.\n",
    "\n",
    "(11 pts total)\n",
    "\n",
    "## Prerequisites\n",
    "\n",
    "+ This notebook assumes that price data is available to you in the environment variable `PRICE_DATA`. If you have not done so, then execute the notebook `production_2_data_engineering.ipynb` to create this data set.\n"
   ]
  },
  {
   "cell_type": "markdown",
   "metadata": {},
   "source": [
    "+ Load the environment variables using dotenv. (1 pt)"
   ]
  },
  {
   "cell_type": "code",
   "execution_count": 23,
   "metadata": {},
   "outputs": [
    {
     "data": {
      "text/plain": [
       "True"
      ]
     },
     "execution_count": 23,
     "metadata": {},
     "output_type": "execute_result"
    }
   ],
   "source": [
    "from dotenv import load_dotenv\n",
    "load_dotenv()"
   ]
  },
  {
   "cell_type": "code",
   "execution_count": 24,
   "metadata": {},
   "outputs": [],
   "source": [
    "import dask\n",
    "dask.config.set({'dataframe.query-planning': True})\n",
    "import dask.dataframe as dd"
   ]
  },
  {
   "cell_type": "markdown",
   "metadata": {},
   "source": [
    "+ Load the environment variable `PRICE_DATA`.\n",
    "+ Use [glob](https://docs.python.org/3/library/glob.html) to find the path of all parquet files in the directory `PRICE_DATA`.\n",
    "\n",
    "(1pt)"
   ]
  },
  {
   "cell_type": "code",
   "execution_count": 25,
   "metadata": {},
   "outputs": [
    {
     "name": "stdout",
     "output_type": "stream",
     "text": [
      "../../05_src/data/prices/\n"
     ]
    }
   ],
   "source": [
    "import os\n",
    "from glob import glob\n",
    "\n",
    "price_data_dir = os.getenv(\"PRICE_DATA\")\n",
    "print(price_data_dir)\n",
    "\n",
    "parquet_files = glob(price_data_dir + \"/**/*.parquet\", recursive=True)\n"
   ]
  },
  {
   "cell_type": "markdown",
   "metadata": {},
   "source": [
    "For each ticker and using Dask, do the following:\n",
    "\n",
    "+ Add lags for variables Close and Adj_Close.\n",
    "+ Add returns based on Adjusted Close:\n",
    "    \n",
    "    - `returns`: (Adj Close / Adj Close_lag) - 1\n",
    "\n",
    "+ Add the following range: \n",
    "\n",
    "    - `hi_lo_range`: this is the day's High minus Low.\n",
    "\n",
    "+ Assign the result to `dd_feat`.\n",
    "\n",
    "(4 pt)"
   ]
  },
  {
   "cell_type": "code",
   "execution_count": 30,
   "metadata": {},
   "outputs": [
    {
     "name": "stdout",
     "output_type": "stream",
     "text": [
      "Index(['Date', 'Open', 'High', 'Low', 'Close', 'Adj Close', 'Volume', 'sector',\n",
      "       'subsector', 'year'],\n",
      "      dtype='object')\n",
      "             Date       Open       High        Low      Close  Adj Close  \\\n",
      "ticker                                                                     \n",
      "AAL    2005-09-27  21.049999  21.400000  19.100000  19.299999  18.194912   \n",
      "AAL    2005-09-28  19.299999  20.530001  19.200001  20.500000  19.326206   \n",
      "AAL    2005-09-29  20.400000  20.580000  20.100000  20.209999  19.052803   \n",
      "AAL    2005-09-30  20.260000  21.049999  20.180000  21.010000  19.806999   \n",
      "AAL    2005-10-03  20.900000  21.750000  20.900000  21.500000  20.268940   \n",
      "\n",
      "         Volume       sector           subsector  year  \n",
      "ticker                                                  \n",
      "AAL      961200  Industrials  Passenger Airlines  2005  \n",
      "AAL     5747900  Industrials  Passenger Airlines  2005  \n",
      "AAL     1078200  Industrials  Passenger Airlines  2005  \n",
      "AAL     3123300  Industrials  Passenger Airlines  2005  \n",
      "AAL     1057900  Industrials  Passenger Airlines  2005  \n"
     ]
    }
   ],
   "source": [
    "# parquet files\n",
    "parquet_files = glob(os.path.join(price_data_dir, \"**/*.parquet\"), recursive=True)\n",
    "\n",
    "# load dd\n",
    "ddf = dd.read_parquet(parquet_files)\n",
    "print(ddf.columns)\n",
    "print(ddf.head())\n",
    "\n",
    "# add features\n",
    "def add_features(df):\n",
    "    df = df.sort_index()\n",
    "    # Add lags, returns, and high/low range for variable Close\n",
    "    df['Close_lag'] = df['Close'].shift(1)\n",
    "    df['returns'] = (df['Close'] / df['Close_lag']) - 1\n",
    "    df['hi_lo_range'] = df['High'] - df['Low']\n",
    "    return df\n",
    "\n",
    "# update meta\n",
    "meta = ddf.head()\n",
    "meta['Close_lag'] = meta['Close']\n",
    "meta['returns'] = meta['Close']\n",
    "meta['hi_lo_range'] = meta['High']\n",
    "\n",
    "\n",
    "dd_feat = ddf.groupby('ticker').apply(add_features, meta=meta)"
   ]
  },
  {
   "cell_type": "markdown",
   "metadata": {},
   "source": [
    "+ Convert the Dask data frame to a pandas data frame. \n",
    "+ Add a rolling average return calculation with a window of 10 days.\n",
    "+ *Tip*: Consider using `.rolling(10).mean()`.\n",
    "\n",
    "(3 pt)"
   ]
  },
  {
   "cell_type": "code",
   "execution_count": 33,
   "metadata": {},
   "outputs": [
    {
     "name": "stdout",
     "output_type": "stream",
     "text": [
      "                           Date       Open       High        Low      Close  \\\n",
      "ticker ticker ticker                                                          \n",
      "A      A      A      2017-01-03  45.930000  46.750000  45.740002  46.490002   \n",
      "              A      2017-01-04  46.930000  47.380001  46.820000  47.099998   \n",
      "              A      2017-01-05  47.049999  47.070000  46.360001  46.540001   \n",
      "              A      2017-01-06  46.630001  48.070000  46.560001  47.990002   \n",
      "              A      2017-01-09  48.009998  48.560001  47.910000  48.139999   \n",
      "\n",
      "                      Adj Close   Volume       sector  \\\n",
      "ticker ticker ticker                                    \n",
      "A      A      A       43.975952  1739600  Health Care   \n",
      "              A       44.552956  1821300  Health Care   \n",
      "              A       44.023243  1503700  Health Care   \n",
      "              A       45.394848  2883400  Health Care   \n",
      "              A       45.536716  2575300  Health Care   \n",
      "\n",
      "                                           subsector  year  Close_lag  \\\n",
      "ticker ticker ticker                                                    \n",
      "A      A      A       Life Sciences Tools & Services  2017        NaN   \n",
      "              A       Life Sciences Tools & Services  2017  46.490002   \n",
      "              A       Life Sciences Tools & Services  2017  47.099998   \n",
      "              A       Life Sciences Tools & Services  2017  46.540001   \n",
      "              A       Life Sciences Tools & Services  2017  47.990002   \n",
      "\n",
      "                       returns  hi_lo_range  rolling_avg_return  \n",
      "ticker ticker ticker                                             \n",
      "A      A      A            NaN     1.009998                 NaN  \n",
      "              A       0.013121     0.560001                 NaN  \n",
      "              A      -0.011890     0.709999                 NaN  \n",
      "              A       0.031156     1.509998                 NaN  \n",
      "              A       0.003126     0.650002                 NaN  \n"
     ]
    }
   ],
   "source": [
    "# Convert dd to pd\n",
    "pdf = dd_feat.compute()\n",
    "\n",
    "def rolling_avg_return(group):\n",
    "    group['rolling_avg_return'] = group['returns'].rolling(10).mean()\n",
    "    return group\n",
    "\n",
    "pdf = pdf.groupby('ticker').apply(rolling_avg_return)\n",
    "\n",
    "print(pdf.head())"
   ]
  },
  {
   "cell_type": "markdown",
   "metadata": {},
   "source": [
    "Please comment:\n",
    "\n",
    "+ Was it necessary to convert to pandas to calculate the moving average return?\n",
    "+ Would it have been better to do it in Dask? Why?\n",
    "\n",
    "(1 pt)"
   ]
  },
  {
   "cell_type": "markdown",
   "metadata": {},
   "source": [
    "1. There is no need to convert to pandas as Dask also supports rolling windows calculations by rolling() method.\n",
    "\n",
    "2. The larger the dataset, the better it is to use Dask because it proceses data in parallel. Pandas work in the same memory/machine and hence is not that efficient. Dask is more scalable and efficient."
   ]
  },
  {
   "cell_type": "markdown",
   "metadata": {},
   "source": [
    "## Criteria\n",
    "\n",
    "|Criteria|Complete|Incomplete|\n",
    "|---------------------|----|----|\n",
    "|Calculations         |Calculations were done correctly.|Calculations were not done correctly.|\n",
    "|Explanation of answer|Answer was concise and explained the learner's reasoning in depth.|Answer was not concise and did not explained the learner's reasoning in depth.|"
   ]
  },
  {
   "cell_type": "markdown",
   "metadata": {},
   "source": [
    "## Submission Information\n",
    "\n",
    "🚨 **Please review our [Assignment Submission Guide](https://github.com/UofT-DSI/onboarding/blob/main/onboarding_documents/submissions.md)** 🚨 for detailed instructions on how to format, branch, and submit your work. Following these guidelines is crucial for your submissions to be evaluated correctly.\n",
    "\n",
    "### Submission Parameters:\n",
    "* Submission Due Date: `HH:MM AM/PM - DD/MM/YYYY`\n",
    "* The branch name for your repo should be: `assignment-1`\n",
    "* What to submit for this assignment:\n",
    "    * This Jupyter Notebook (assignment_1.ipynb) should be populated and should be the only change in your pull request.\n",
    "* What the pull request link should look like for this assignment: `https://github.com/<your_github_username>/production/pull/<pr_id>`\n",
    "    * Open a private window in your browser. Copy and paste the link to your pull request into the address bar. Make sure you can see your pull request properly. This helps the technical facilitator and learning support staff review your submission easily.\n",
    "\n",
    "Checklist:\n",
    "- [ ] Created a branch with the correct naming convention.\n",
    "- [ ] Ensured that the repository is public.\n",
    "- [ ] Reviewed the PR description guidelines and adhered to them.\n",
    "- [ ] Verify that the link is accessible in a private browser window.\n",
    "\n",
    "If you encounter any difficulties or have questions, please don't hesitate to reach out to our team via our Slack at `#cohort-3-help`. Our Technical Facilitators and Learning Support staff are here to help you navigate any challenges."
   ]
  }
 ],
 "metadata": {
  "kernelspec": {
   "display_name": "env",
   "language": "python",
   "name": "python3"
  },
  "language_info": {
   "codemirror_mode": {
    "name": "ipython",
    "version": 3
   },
   "file_extension": ".py",
   "mimetype": "text/x-python",
   "name": "python",
   "nbconvert_exporter": "python",
   "pygments_lexer": "ipython3",
   "version": "3.9.15"
  }
 },
 "nbformat": 4,
 "nbformat_minor": 2
}
